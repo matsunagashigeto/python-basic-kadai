{
  "nbformat": 4,
  "nbformat_minor": 0,
  "metadata": {
    "colab": {
      "provenance": []
    },
    "kernelspec": {
      "name": "python3",
      "display_name": "Python 3"
    },
    "language_info": {
      "name": "python"
    }
  },
  "cells": [
    {
      "cell_type": "code",
      "execution_count": 4,
      "metadata": {
        "colab": {
          "base_uri": "https://localhost:8080/"
        },
        "id": "EUd89ipJvbB0",
        "outputId": "a96814fd-c8d3-4580-81db-a7301c48979b"
      },
      "outputs": [
        {
          "output_type": "stream",
          "name": "stdout",
          "text": [
            "Fizz\n"
          ]
        }
      ],
      "source": [
        "var = 6\n",
        "if(var % 5 == 0) and (var % 3 == 0):\n",
        "    print(\"FizzBuzz\")\n",
        "elif(var % 3 == 0):\n",
        "    print(\"Fizz\")\n",
        "elif(var % 5 == 0):\n",
        "    print(\"Buzz\")\n",
        "else:\n",
        "    print(var)\n"
      ]
    },
    {
      "cell_type": "code",
      "source": [
        "var = 10\n",
        "if(var % 5 == 0) and (var % 3 == 0):\n",
        "    print(\"FizzBuzz\")\n",
        "elif(var % 3 == 0):\n",
        "    print(\"Fizz\")\n",
        "elif(var % 5 == 0):\n",
        "    print(\"Buzz\")\n",
        "else:\n",
        "    print(var)"
      ],
      "metadata": {
        "colab": {
          "base_uri": "https://localhost:8080/"
        },
        "id": "21uxNNS_lS0V",
        "outputId": "df170996-9252-4316-fb17-b65e978d5a60"
      },
      "execution_count": 5,
      "outputs": [
        {
          "output_type": "stream",
          "name": "stdout",
          "text": [
            "Buzz\n"
          ]
        }
      ]
    },
    {
      "cell_type": "code",
      "source": [
        "var = 15\n",
        "if(var % 5 == 0) and (var % 3 == 0):\n",
        "    print(\"FizzBuzz\")\n",
        "elif(var % 3 == 0):\n",
        "    print(\"Fizz\")\n",
        "elif(var % 5 == 0):\n",
        "    print(\"Buzz\")\n",
        "else:\n",
        "    print(var)"
      ],
      "metadata": {
        "colab": {
          "base_uri": "https://localhost:8080/"
        },
        "id": "n-rGvRmxlXiG",
        "outputId": "7d184478-608f-4935-db00-7490c7bbe9eb"
      },
      "execution_count": 6,
      "outputs": [
        {
          "output_type": "stream",
          "name": "stdout",
          "text": [
            "FizzBuzz\n"
          ]
        }
      ]
    },
    {
      "cell_type": "code",
      "source": [
        "var = 7\n",
        "if(var % 5 == 0) and (var % 3 == 0):\n",
        "    print(\"FizzBuzz\")\n",
        "elif(var % 3 == 0):\n",
        "    print(\"Fizz\")\n",
        "elif(var % 5 == 0):\n",
        "    print(\"Buzz\")\n",
        "else:\n",
        "    print(var)"
      ],
      "metadata": {
        "colab": {
          "base_uri": "https://localhost:8080/"
        },
        "id": "wOIOHtyKlcA_",
        "outputId": "cc686229-e932-408f-8fc7-20047637bba1"
      },
      "execution_count": 7,
      "outputs": [
        {
          "output_type": "stream",
          "name": "stdout",
          "text": [
            "7\n"
          ]
        }
      ]
    }
  ]
}