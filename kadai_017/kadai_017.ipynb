{
  "nbformat": 4,
  "nbformat_minor": 0,
  "metadata": {
    "colab": {
      "provenance": []
    },
    "kernelspec": {
      "name": "python3",
      "display_name": "Python 3"
    },
    "language_info": {
      "name": "python"
    }
  },
  "cells": [
    {
      "cell_type": "code",
      "execution_count": 12,
      "metadata": {
        "colab": {
          "base_uri": "https://localhost:8080/"
        },
        "id": "KJBkkNDjkcrx",
        "outputId": "17a56e8f-2d2c-4be5-c69b-a9de98897f18"
      },
      "outputs": [
        {
          "output_type": "stream",
          "name": "stdout",
          "text": [
            "大人です\n",
            "大人です\n",
            "子供です\n",
            "大人です\n"
          ]
        }
      ],
      "source": [
        "class Human:\n",
        "    def __init__(self, name, age):\n",
        "        self.name = name\n",
        "        self.age = age\n",
        "\n",
        "    def check_adult(self):\n",
        "        if self.age >= 20:\n",
        "            print(\"大人です\")\n",
        "        else:\n",
        "            print(\"子供です\")\n",
        "\n",
        "myself = Human(\"Shigeto\", 51)\n",
        "human1 = Human(\"aaa\", 20)\n",
        "human2 = Human(\"bbb\", 19)\n",
        "human3 = Human(\"ccc\", 21)\n",
        "\n",
        "humanList = [myself, human1, human2, human3]\n",
        "\n",
        "for human in humanList:\n",
        "    human.check_adult()\n"
      ]
    }
  ]
}