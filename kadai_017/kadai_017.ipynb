{
  "nbformat": 4,
  "nbformat_minor": 0,
  "metadata": {
    "colab": {
      "provenance": []
    },
    "kernelspec": {
      "name": "python3",
      "display_name": "Python 3"
    },
    "language_info": {
      "name": "python"
    }
  },
  "cells": [
    {
      "cell_type": "code",
      "execution_count": 14,
      "metadata": {
        "colab": {
          "base_uri": "https://localhost:8080/"
        },
        "id": "KJBkkNDjkcrx",
        "outputId": "bf66f186-b448-43f6-e141-fe8b0bedb2df"
      },
      "outputs": [
        {
          "output_type": "stream",
          "name": "stdout",
          "text": [
            "Shigeto is adult.\n",
            "aaa is adult.\n",
            "bbb is not adult.\n",
            "ccc is adult.\n"
          ]
        }
      ],
      "source": [
        "class Human:\n",
        "    def __init__(self, name, age):\n",
        "        self.name = name\n",
        "        self.age = age\n",
        "\n",
        "    def check_adult(self):\n",
        "        if self.age >= 20:\n",
        "            print(self.name + \" is adult.\")\n",
        "        else:\n",
        "            print(self.name + \" is not adult.\")\n",
        "\n",
        "myself = Human(\"Shigeto\", 51)\n",
        "human1 = Human(\"aaa\", 20)\n",
        "human2 = Human(\"bbb\", 19)\n",
        "human3 = Human(\"ccc\", 21)\n",
        "\n",
        "humanList = [myself, human1, human2, human3]\n",
        "\n",
        "for human in humanList:\n",
        "    human.check_adult()\n"
      ]
    }
  ]
}