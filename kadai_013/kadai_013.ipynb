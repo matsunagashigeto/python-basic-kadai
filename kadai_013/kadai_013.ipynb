{
  "nbformat": 4,
  "nbformat_minor": 0,
  "metadata": {
    "colab": {
      "provenance": []
    },
    "kernelspec": {
      "name": "python3",
      "display_name": "Python 3"
    },
    "language_info": {
      "name": "python"
    }
  },
  "cells": [
    {
      "cell_type": "code",
      "execution_count": 3,
      "metadata": {
        "id": "CTc8M-V9xURj"
      },
      "outputs": [],
      "source": [
        "def calculation_consumption_tax(amount, tax_rate):\n",
        "    #かけ率を出す\n",
        "    rate = tax_rate / 100\n",
        "    #消費税分の計算\n",
        "    consumption_tax = amount * rate\n",
        "    return consumption_tax + amount"
      ]
    },
    {
      "cell_type": "code",
      "source": [
        "total = calculation_consumption_tax(110, 10)\n",
        "print(total)"
      ],
      "metadata": {
        "colab": {
          "base_uri": "https://localhost:8080/"
        },
        "id": "uArAZmQsyt0_",
        "outputId": "423cf104-7772-43ca-a143-c4ea926dc076"
      },
      "execution_count": 4,
      "outputs": [
        {
          "output_type": "stream",
          "name": "stdout",
          "text": [
            "121.0\n"
          ]
        }
      ]
    }
  ]
}