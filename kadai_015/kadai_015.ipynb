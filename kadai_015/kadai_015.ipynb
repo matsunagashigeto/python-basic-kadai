{
  "nbformat": 4,
  "nbformat_minor": 0,
  "metadata": {
    "colab": {
      "provenance": []
    },
    "kernelspec": {
      "name": "python3",
      "display_name": "Python 3"
    },
    "language_info": {
      "name": "python"
    }
  },
  "cells": [
    {
      "cell_type": "code",
      "execution_count": 8,
      "metadata": {
        "colab": {
          "base_uri": "https://localhost:8080/"
        },
        "id": "KJBkkNDjkcrx",
        "outputId": "8f3535c5-fefc-4d62-988b-2080fedee141"
      },
      "outputs": [
        {
          "output_type": "stream",
          "name": "stdout",
          "text": [
            "Shigeto\n",
            "51\n"
          ]
        }
      ],
      "source": [
        "class human:\n",
        "    def __init__(self, name, age):\n",
        "        self.name = name\n",
        "        self.age = age\n",
        "\n",
        "    def printinfo(self):\n",
        "        print(self.name)\n",
        "        print(self.age)\n",
        "\n",
        "myeself = human(\"Shigeto\", 51)\n",
        "myeself.printinfo()"
      ]
    }
  ]
}