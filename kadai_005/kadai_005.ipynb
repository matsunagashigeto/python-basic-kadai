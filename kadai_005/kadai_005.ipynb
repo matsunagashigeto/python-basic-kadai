{
  "nbformat": 4,
  "nbformat_minor": 0,
  "metadata": {
    "colab": {
      "provenance": []
    },
    "kernelspec": {
      "name": "python3",
      "display_name": "Python 3"
    },
    "language_info": {
      "name": "python"
    }
  },
  "cells": [
    {
      "cell_type": "code",
      "execution_count": 1,
      "metadata": {
        "colab": {
          "base_uri": "https://localhost:8080/"
        },
        "id": "5VQUdC33st37",
        "outputId": "c0b5558e-889f-4cb4-8e5b-50c30fa1295e"
      },
      "outputs": [
        {
          "output_type": "stream",
          "name": "stdout",
          "text": [
            "75.0cm²\n"
          ]
        }
      ],
      "source": [
        "# 台形の寸法\n",
        "upper_base = 10  # 上辺（cm）\n",
        "lower_base = 20  # 下辺（cm）\n",
        "height = 5       # 高さ（cm）\n",
        "\n",
        "# 面積の計算（台形の面積公式： (上辺 + 下辺) × 高さ ÷ 2）\n",
        "area = (upper_base + lower_base) * height / 2\n",
        "\n",
        "# 結果の出力\n",
        "print(f\"{area}cm²\")"
      ]
    }
  ]
}