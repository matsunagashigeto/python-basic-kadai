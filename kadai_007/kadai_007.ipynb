{
  "nbformat": 4,
  "nbformat_minor": 0,
  "metadata": {
    "colab": {
      "provenance": []
    },
    "kernelspec": {
      "name": "python3",
      "display_name": "Python 3"
    },
    "language_info": {
      "name": "python"
    }
  },
  "cells": [
    {
      "cell_type": "markdown",
      "source": [],
      "metadata": {
        "id": "_yJYx44YowEk"
      }
    },
    {
      "cell_type": "code",
      "execution_count": 6,
      "metadata": {
        "colab": {
          "base_uri": "https://localhost:8080/"
        },
        "id": "0rL17kqDnqvi",
        "outputId": "5325dbdc-6e27-4191-a14f-0544ff2faf8d"
      },
      "outputs": [
        {
          "output_type": "stream",
          "name": "stdout",
          "text": [
            "{'mon': '晴れ', 'tue': '雨', 'wed': '晴れ', 'thu': '晴れ', 'fri': '曇り', 'sat': '曇りのち雨', 'sun': '雷雨'}\n",
            "晴れ\n",
            "['月曜日は晴れです', '火曜日は雨です', '水曜日は晴れです', '木曜日は晴れです', '金曜日は曇りです', '土曜日は曇りのち雨です', '日曜日は雷雨です']\n",
            "水曜日は晴れです\n"
          ]
        }
      ],
      "source": [
        "dictionary = {'mon': '晴れ', 'tue': '雨', 'wed': '晴れ', 'thu': '晴れ', 'fri': '曇り', 'sat': '曇りのち雨', 'sun': '雷雨'}\n",
        "print(dictionary)\n",
        "print(dictionary['wed'])\n",
        "array = []\n",
        "array.append('月曜日は晴れです')\n",
        "array.append('火曜日は雨です')\n",
        "array.append('水曜日は晴れです')\n",
        "array.append('木曜日は晴れです')\n",
        "array.append('金曜日は曇りです')\n",
        "array.append('土曜日は曇りのち雨です')\n",
        "array.append('日曜日は雷雨です')\n",
        "print(array)\n",
        "print(array[2])"
      ]
    }
  ]
}